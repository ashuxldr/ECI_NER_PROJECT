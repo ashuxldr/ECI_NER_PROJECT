{
  "cells": [
    {
      "cell_type": "markdown",
      "metadata": {
        "id": "view-in-github",
        "colab_type": "text"
      },
      "source": [
        "<a href=\"https://colab.research.google.com/github/ashuxldr/ECI_NER_PROJECT/blob/main/NERmodel_prodigy.ipynb\" target=\"_parent\"><img src=\"https://colab.research.google.com/assets/colab-badge.svg\" alt=\"Open In Colab\"/></a>"
      ]
    },
    {
      "cell_type": "markdown",
      "metadata": {
        "id": "eyj6PoM7Q7MF"
      },
      "source": [
        "MOUNTING GOOGLE DRIVE WITH COLAB"
      ]
    },
    {
      "cell_type": "code",
      "execution_count": null,
      "metadata": {
        "id": "a25QCVuZgin3"
      },
      "outputs": [],
      "source": [
        "from google.colab import drive\n",
        "drive.mount('/content/drive')"
      ]
    },
    {
      "cell_type": "markdown",
      "metadata": {
        "id": "nWl15ignRFWg"
      },
      "source": [
        "INSTALLING AND IMPORTING PACKAGES"
      ]
    },
    {
      "cell_type": "code",
      "execution_count": null,
      "metadata": {
        "id": "xwZASdGORKwr"
      },
      "outputs": [],
      "source": [
        "!pip install spacy"
      ]
    },
    {
      "cell_type": "code",
      "execution_count": null,
      "metadata": {
        "id": "K_4PcVSPzBUS"
      },
      "outputs": [],
      "source": [
        "!pip install pandas"
      ]
    },
    {
      "cell_type": "code",
      "execution_count": null,
      "metadata": {
        "id": "F_26lkUFaDdP"
      },
      "outputs": [],
      "source": [
        "!pip install nlpaug"
      ]
    },
    {
      "cell_type": "code",
      "execution_count": null,
      "metadata": {
        "id": "DMR3Xaqra1rc"
      },
      "outputs": [],
      "source": [
        "import spacy\n",
        "from collections import Counter\n",
        "from pandas import *\n"
      ]
    },
    {
      "cell_type": "markdown",
      "metadata": {
        "id": "j90fKG_GRcAj"
      },
      "source": [
        "TRAIN MODEL USING ANNOTATED DATA FROM PRODIGY"
      ]
    },
    {
      "cell_type": "code",
      "execution_count": null,
      "metadata": {
        "colab": {
          "background_save": true,
          "base_uri": "https://localhost:8080/"
        },
        "id": "Yue_iBrTbkA3",
        "outputId": "4e82eebb-3798-4d4f-f549-11dd5cf47200"
      },
      "outputs": [
        {
          "name": "stdout",
          "output_type": "stream",
          "text": [
            "2023-05-19 20:59:33.758684: W tensorflow/compiler/tf2tensorrt/utils/py_utils.cc:38] TF-TRT Warning: Could not find TensorRT\n",
            "\u001b[38;5;4mℹ Saving to output directory: .\u001b[0m\n",
            "\u001b[38;5;4mℹ Using CPU\u001b[0m\n",
            "\u001b[1m\n",
            "=========================== Initializing pipeline ===========================\u001b[0m\n",
            "[2023-05-19 20:59:37,306] [INFO] Set up nlp object from config\n",
            "[2023-05-19 20:59:37,327] [INFO] Pipeline: ['tok2vec', 'ner']\n",
            "[2023-05-19 20:59:37,335] [INFO] Created vocabulary\n",
            "[2023-05-19 20:59:37,337] [INFO] Finished initializing nlp object\n",
            "[2023-05-19 20:59:43,112] [INFO] Initialized pipeline components: ['tok2vec', 'ner']\n",
            "\u001b[38;5;2m✔ Initialized pipeline\u001b[0m\n",
            "\u001b[1m\n",
            "============================= Training pipeline =============================\u001b[0m\n",
            "\u001b[38;5;4mℹ Pipeline: ['tok2vec', 'ner']\u001b[0m\n",
            "\u001b[38;5;4mℹ Initial learn rate: 0.001\u001b[0m\n",
            "E    #       LOSS TOK2VEC  LOSS NER  ENTS_F  ENTS_P  ENTS_R  SCORE \n",
            "---  ------  ------------  --------  ------  ------  ------  ------\n",
            "  0       0          0.00     48.09    0.00    0.00    0.00    0.00\n",
            "  0     200        283.14   1437.03   58.88   61.78   56.23    0.59\n",
            "  1     400       1270.33    671.54   64.80   70.03   60.29    0.65\n",
            "  2     600         76.21    455.11   73.68   79.07   68.99    0.74\n",
            "  3     800        309.71    529.08   73.55   73.76   73.33    0.74\n",
            "  5    1000       1984.50    456.60   72.67   76.77   68.99    0.73\n",
            "  7    1200        216.66    470.16   74.92   78.23   71.88    0.75\n",
            " 10    1400        359.42    375.85   76.67   80.32   73.33    0.77\n",
            " 13    1600        351.50    430.04   76.62   81.64   72.17    0.77\n",
            " 17    1800        261.66    344.41   75.86   78.57   73.33    0.76\n",
            " 22    2000        272.69    311.49   76.64   80.97   72.75    0.77\n",
            " 28    2200        301.94    281.83   77.59   80.62   74.78    0.78\n",
            " 35    2400        294.23    290.06   75.75   78.33   73.33    0.76\n",
            " 42    2600        230.34    205.92   75.57   79.30   72.17    0.76\n",
            " 50    2800        287.76    186.31   77.64   81.07   74.49    0.78\n",
            " 57    3000        293.99    181.73   77.91   80.31   75.65    0.78\n",
            " 64    3200        222.72    153.29   76.39   79.38   73.62    0.76\n",
            " 72    3400        346.19    161.84   78.42   82.43   74.78    0.78\n",
            " 79    3600        380.74    162.82   75.82   78.15   73.62    0.76\n",
            " 87    3800       6851.63    247.28   78.86   81.68   76.23    0.79\n",
            " 94    4000        410.62    155.69   76.92   81.97   72.46    0.77\n",
            "101    4200        365.99    169.38   76.99   80.00   74.20    0.77\n",
            "109    4400        678.15    205.61   76.71   80.77   73.04    0.77\n",
            "116    4600        357.67    178.31   75.67   77.51   73.91    0.76\n",
            "124    4800        408.79    168.72   74.85   77.40   72.46    0.75\n",
            "131    5000        361.06    141.22   74.36   77.02   71.88    0.74\n",
            "138    5200        312.87    145.57   75.49   79.49   71.88    0.75\n",
            "146    5400        334.65    142.90   77.56   79.57   75.65    0.78\n",
            "\u001b[38;5;2m✔ Saved pipeline to output directory\u001b[0m\n",
            "model-last\n"
          ]
        }
      ],
      "source": [
        "!python -m spacy train drive/MyDrive/ECI/config.cfg --output ./ --paths.train drive/MyDrive/ECI/train.spacy --paths.dev drive/MyDrive/ECI/dev.spacy"
      ]
    },
    {
      "cell_type": "code",
      "execution_count": null,
      "metadata": {
        "colab": {
          "base_uri": "https://localhost:8080/"
        },
        "id": "WOzLezgDsY_s",
        "outputId": "922af3ff-0d5c-4666-d4da-e20c590b7299"
      },
      "outputs": [
        {
          "output_type": "stream",
          "name": "stdout",
          "text": [
            "\u001b[0m\u001b[01;34mdrive\u001b[0m/  \u001b[01;34mmodel-best\u001b[0m/  \u001b[01;34mmodel-last\u001b[0m/  \u001b[01;34msample_data\u001b[0m/\n"
          ]
        }
      ],
      "source": [
        "ls"
      ]
    },
    {
      "cell_type": "markdown",
      "metadata": {
        "id": "9gjfPa7nbgiF"
      },
      "source": [
        "LOADING THE TRAINED MODEL AND ADDING RULE BASED MATCHING"
      ]
    },
    {
      "cell_type": "code",
      "execution_count": null,
      "metadata": {
        "id": "DVrLAWUkdNFm"
      },
      "outputs": [],
      "source": [
        "# LOADING THE TRAINING MODEL\n",
        "nlp1 = spacy.load(r\"./model-best\")  \n",
        "\n",
        "# ADDING ENTITY RULER PIPE TO OUR MODEL\n",
        "ruler = nlp1.add_pipe(\"entity_ruler\")"
      ]
    },
    {
      "cell_type": "markdown",
      "metadata": {
        "id": "1yvhSrYUbgpV"
      },
      "source": [
        "ADDING THE PHRASE AND TOKEN PATTERNS FOR RULE BASED MATCHING FOR STATE, ASSEMBLY AND PARLIAMENTARY CONSTITUENCIES"
      ]
    },
    {
      "cell_type": "code",
      "execution_count": null,
      "metadata": {
        "id": "XweGubpmlRRG"
      },
      "outputs": [],
      "source": [
        "# READING PC DATA AND ADDING PATTERNS TO MODEL\n",
        "data1 = read_csv(\"drive/MyDrive/ECI/parliamentary_constituency.csv\")\n",
        "PC = data1['Parliamentary Constituency'].tolist()\n",
        "pc_patterns = []\n",
        "for i in PC:\n",
        "  index = i.find(' ')\n",
        "  if index == -1:\n",
        "    dict1 = {\"label\":\"PARLIAMENTARY\", \"pattern\":i}\n",
        "  else:\n",
        "    dict1 = {\"label\":\"PARLIAMENTARY\", \"pattern\":[ {'LOWER':x} for x in i.split(' ')]}\n",
        "  pc_patterns.append(dict1)\n",
        "ruler.add_patterns(pc_patterns)"
      ]
    },
    {
      "cell_type": "code",
      "execution_count": null,
      "metadata": {
        "id": "QOOuZyFHqs47"
      },
      "outputs": [],
      "source": [
        "# READING STATE DATA AND ADDING PATTERNS TO MODEL\n",
        "data3 = read_csv(\"drive/MyDrive/ECI/State.csv\")\n",
        "states = data3['State'].tolist()\n",
        "state_patterns = []\n",
        "for i in states:\n",
        "  index = i.find(' ')\n",
        "  if index == -1:\n",
        "    dict1 = {\"label\":\"STATE\", \"pattern\":i}\n",
        "  else:\n",
        "    dict1 = {\"label\":\"STATE\", \"pattern\":[ {'LOWER':x} for x in i.split(' ')]}\n",
        "  state_patterns.append(dict1)\n",
        "ruler.add_patterns(state_patterns)"
      ]
    },
    {
      "cell_type": "code",
      "execution_count": null,
      "metadata": {
        "id": "D7yb6EEZk4bZ"
      },
      "outputs": [],
      "source": [
        "# READING ASSEMBLY CONSTITUENCIES AND ADDING THEIR PATTERNS\n",
        "data = read_csv(\"drive/MyDrive/ECI/assembly.csv\")\n",
        "AC = data['AC_NAME'].tolist()\n",
        "AC1 = []\n",
        "for i in AC:\n",
        "  x = i \n",
        "  if i.endswith(\"(ST)\") or i.endswith(\"(SC)\"):\n",
        "    x = i[:i.index('(')]\n",
        "  AC1.append(x)\n",
        "\n",
        "ac_patterns = []\n",
        "for i in AC1:\n",
        "  index = i.find(' ')\n",
        "  if index == -1:\n",
        "    dict1 = {\"label\":\"ASSEMBLY\", \"pattern\":i}\n",
        "  else:\n",
        "    dict1 = {\"label\":\"ASSEMBLY\", \"pattern\":[ {'LOWER':x} for x in i.split(' ')]}\n",
        "  ac_patterns.append(dict1)\n",
        "\n",
        "ruler.add_patterns(ac_patterns)"
      ]
    },
    {
      "cell_type": "markdown",
      "metadata": {
        "id": "e5bLiPi4eRkv"
      },
      "source": [
        "READING INPUT TEXT AND PRINTING ANALYZED ENTITIES"
      ]
    },
    {
      "cell_type": "code",
      "execution_count": null,
      "metadata": {
        "colab": {
          "base_uri": "https://localhost:8080/"
        },
        "id": "8NnljkCjdSqu",
        "outputId": "1d31ac82-a1ad-4996-956f-950c9d3a7825"
      },
      "outputs": [
        {
          "output_type": "stream",
          "name": "stdout",
          "text": [
            "(Amritsar, Punjab, Amritsar, Punjab, Pune, Maharashtra, Pune, Maharashtra)\n"
          ]
        }
      ],
      "source": [
        "doc = nlp1(\"\"\"\n",
        "Amritsar, Punjab: Amritsar holds immense religious importance as the home of the Golden Temple, making it a significant parliamentary constituency in Punjab.\n",
        "Pune, Maharashtra: Pune, known for its educational institutions and IT industry, represents the modern, cosmopolitan character of Maharashtra.\n",
        "\"\"\")\n",
        "print(doc.ents)"
      ]
    },
    {
      "cell_type": "markdown",
      "metadata": {
        "id": "nnNB-WNnl8lq"
      },
      "source": [
        "OUTPUT - TAGGED ENTITES AS STATE, DISTRICT, ASSEMBLY, PARLIAMENTARY"
      ]
    },
    {
      "cell_type": "code",
      "execution_count": null,
      "metadata": {
        "colab": {
          "base_uri": "https://localhost:8080/",
          "height": 122
        },
        "id": "kS15PJHldfP0",
        "outputId": "eb837cfd-ed03-435d-a957-3f6d0182a487"
      },
      "outputs": [
        {
          "output_type": "display_data",
          "data": {
            "text/plain": [
              "<IPython.core.display.HTML object>"
            ],
            "text/html": [
              "<span class=\"tex2jax_ignore\"><div class=\"entities\" style=\"line-height: 2.5; direction: ltr\"></br>Amritsar, \n",
              "<mark class=\"entity\" style=\"background: #fd7e14; padding: 0.45em 0.6em; margin: 0 0.25em; line-height: 1; border-radius: 0.35em;\">\n",
              "    Punjab\n",
              "    <span style=\"font-size: 0.8em; font-weight: bold; line-height: 1; border-radius: 0.35em; vertical-align: middle; margin-left: 0.5rem\">STATE</span>\n",
              "</mark>\n",
              ": Amritsar holds immense religious importance as the home of the Golden Temple, making it a significant parliamentary constituency in \n",
              "<mark class=\"entity\" style=\"background: #fd7e14; padding: 0.45em 0.6em; margin: 0 0.25em; line-height: 1; border-radius: 0.35em;\">\n",
              "    Punjab\n",
              "    <span style=\"font-size: 0.8em; font-weight: bold; line-height: 1; border-radius: 0.35em; vertical-align: middle; margin-left: 0.5rem\">STATE</span>\n",
              "</mark>\n",
              ".</br>\n",
              "<mark class=\"entity\" style=\"background: #28a745; padding: 0.45em 0.6em; margin: 0 0.25em; line-height: 1; border-radius: 0.35em;\">\n",
              "    Pune\n",
              "    <span style=\"font-size: 0.8em; font-weight: bold; line-height: 1; border-radius: 0.35em; vertical-align: middle; margin-left: 0.5rem\">PARLIAMENTARY</span>\n",
              "</mark>\n",
              ", \n",
              "<mark class=\"entity\" style=\"background: #fd7e14; padding: 0.45em 0.6em; margin: 0 0.25em; line-height: 1; border-radius: 0.35em;\">\n",
              "    Maharashtra\n",
              "    <span style=\"font-size: 0.8em; font-weight: bold; line-height: 1; border-radius: 0.35em; vertical-align: middle; margin-left: 0.5rem\">STATE</span>\n",
              "</mark>\n",
              ": \n",
              "<mark class=\"entity\" style=\"background: #007bff; padding: 0.45em 0.6em; margin: 0 0.25em; line-height: 1; border-radius: 0.35em;\">\n",
              "    Pune\n",
              "    <span style=\"font-size: 0.8em; font-weight: bold; line-height: 1; border-radius: 0.35em; vertical-align: middle; margin-left: 0.5rem\">DISTRICT</span>\n",
              "</mark>\n",
              ", known for its educational institutions and IT industry, represents the modern, cosmopolitan character of \n",
              "<mark class=\"entity\" style=\"background: #fd7e14; padding: 0.45em 0.6em; margin: 0 0.25em; line-height: 1; border-radius: 0.35em;\">\n",
              "    Maharashtra\n",
              "    <span style=\"font-size: 0.8em; font-weight: bold; line-height: 1; border-radius: 0.35em; vertical-align: middle; margin-left: 0.5rem\">STATE</span>\n",
              "</mark>\n",
              ".</br></div></span>"
            ]
          },
          "metadata": {}
        }
      ],
      "source": [
        "from spacy import displacy\n",
        "colors = {'STATE': \"#fd7e14\", 'DISTRICT': \"#007bff\", 'ASSEMBLY': \"#dc3545\", 'PARLIAMENTARY': \"#28a745\"}\n",
        "options = {\"ents\": ['STATE', 'DISTRICT', 'ASSEMBLY', 'PARLIAMENTARY'], \"colors\": colors} \n",
        "spacy.displacy.render(doc, style=\"ent\", jupyter=True, options=options)"
      ]
    },
    {
      "cell_type": "markdown",
      "metadata": {
        "id": "5j9Uztk2mTk1"
      },
      "source": [
        "CODE FOR DATA  AUGMENTATION"
      ]
    },
    {
      "cell_type": "code",
      "execution_count": null,
      "metadata": {
        "colab": {
          "base_uri": "https://localhost:8080/"
        },
        "id": "4_PwxGYv23LY",
        "outputId": "231a7127-a752-41d6-d67e-e421574f2d53"
      },
      "outputs": [
        {
          "name": "stdout",
          "output_type": "stream",
          "text": [
            "Augmented Data (Synonym Replacement):\n",
            "Uttar Pradesh, a politically significant state in India, encompasses parliamentary constituencies such as Gorakhpur, Lucknow, Varanasi, Firozabad, and Meerut. => Uttar Pradesh, a politically substantial state of matter in Republic of india, encompasses parliamentary constituency such as Gorakhpur, Lucknow, Varanasi, Firozabad, and Meerut.\n",
            "Gorakhpur, known for its historical and religious importance, has been a stronghold of the Bharatiya Janata Party (BJP) and was represented by Yogi Adityanath, the current Chief Minister of the state. => Gorakhpur, known for its historical and spiritual importance, suffer been a fastness of the Bharatiya Janata Party (BJP) and was represented by Lawrence peter berra Adityanath, the current Tribal chief Minister of the state.\n",
            "Lucknow, the capital city, holds prestige as a parliamentary constituency and has seen notable politicians like former Prime Minister Atal Bihari Vajpayee and the current Defense Minister, Rajnath Singh, representing it. => Lucknow, the das kapital urban center, contain prestige as a parliamentary constituency and has control notable politicians same former Prime Rector Atal Bihari Vajpayee and the current Defence Minister, Rajnath Singh, representing it.\n",
            " Varanasi, a city of immense cultural significance, stands out as the constituency of the Prime Minister, Narendra Modi, who has initiated various developmental projects in the area. Firozabad and Meerut constituencies, with their unique socio-economic landscapes, contribute to the diverse political fabric of Uttar Pradesh. => Varanasi, a urban center of immense cultural meaning, stands out as the constituency of the Efflorescence Minister, Narendra Modi, who has initiate various developmental projects in the area. Firozabad and Meerut constituencies, with their unique socio - economic landscapes, contribute to the diverse political fabric of Uttar Pradesh.\n",
            " These parliamentary constituencies represent the aspirations, concerns, and diverse demographics of the people, making Uttar Pradesh a crucial state in shaping India's political landscape. => These parliamentary constituencies comprise the aspirations, vexation, and diverse demographics of the people, create Uttar Pradesh a crucial united states department of state in shaping India ' s political landscape painting.\n",
            "\n",
            "Augmented Data (Keyboard Typos):\n",
            "Uttar Pradesh, a politically significant state in India, encompasses parliamentary constituencies such as Gorakhpur, Lucknow, Varanasi, Firozabad, and Meerut. => UHtWr Pradesh, a politically sihniRicSn$ state in OnWia, encompasses pzr?iaNFntary constir7ensUrs such as Gpramhput, Lucknow, VadaGas9, Cir0zabaf, and Meerut.\n",
            "Gorakhpur, known for its historical and religious importance, has been a stronghold of the Bharatiya Janata Party (BJP) and was represented by Yogi Adityanath, the current Chief Minister of the state. => Goraih(&r, known for its Misf(rical and re/iVioIs importAmc$, has been a stronghold of the Bharatiya mana5a oartu (BJP) and was 4epf@senteS by HoRi qdityana5B, the current Cho#f Minister of the state.\n",
            "Lucknow, the capital city, holds prestige as a parliamentary constituency and has seen notable politicians like former Prime Minister Atal Bihari Vajpayee and the current Defense Minister, Rajnath Singh, representing it. => Lucknow, the capo4a. x*ty, N(lds prestige as a parliamentary constituency and has XeeH notable politicians like former Prime jigOster Xtxl Bihari VaNOa^ee and the cuEeeBt Def4nZ@ Minister, Rajnath Singh, repr4Wen%int it.\n",
            " Varanasi, a city of immense cultural significance, stands out as the constituency of the Prime Minister, Narendra Modi, who has initiated various developmental projects in the area. Firozabad and Meerut constituencies, with their unique socio-economic landscapes, contribute to the diverse political fabric of Uttar Pradesh. => DaranzsJ, a city of LmmenC4 cultural significance, sHznds out as the constituency of the PFimf KiMist@r, Narendra Modi, who has initiated various developmental p3o<echs in the area. Firozabad and Meerut constituencies, with their unique socio - economic landscapes, c8ntrib Ttf to the diverse pIliticz/ fabrlX of Uttar P$Sdesg.\n",
            " These parliamentary constituencies represent the aspirations, concerns, and diverse demographics of the people, making Uttar Pradesh a crucial state in shaping India's political landscape. => yheae psrliaJSntaGy FoHstitkdnsies represent the aspirations, cLncrDns, and diverse demogrWOmicZ of the people, making Ut5Qr Pradesh a cruDOSl EtatW in shZlLng India ' s political landscape.\n"
          ]
        }
      ],
      "source": [
        "import nlpaug.augmenter.word as naw\n",
        "import nlpaug.augmenter.char as nac\n",
        "\n",
        "# Text data for augmentation\n",
        "text_data = [\n",
        "    \"Uttar Pradesh, a politically significant state in India, encompasses parliamentary constituencies such as Gorakhpur, Lucknow, Varanasi, Firozabad, and Meerut.\",\n",
        "    \"Gorakhpur, known for its historical and religious importance, has been a stronghold of the Bharatiya Janata Party (BJP) and was represented by Yogi Adityanath, the current Chief Minister of the state.\", \n",
        "\"Lucknow, the capital city, holds prestige as a parliamentary constituency and has seen notable politicians like former Prime Minister Atal Bihari Vajpayee and the current Defense Minister, Rajnath Singh, representing it.\",\n",
        "\" Varanasi, a city of immense cultural significance, stands out as the constituency of the Prime Minister, Narendra Modi, who has initiated various developmental projects in the area. Firozabad and Meerut constituencies, with their unique socio-economic landscapes, contribute to the diverse political fabric of Uttar Pradesh.\",\n",
        " \" These parliamentary constituencies represent the aspirations, concerns, and diverse demographics of the people, making Uttar Pradesh a crucial state in shaping India's political landscape.\",\n",
        "]\n",
        "\n",
        "# Word-level augmentation\n",
        "aug = naw.SynonymAug(aug_src='wordnet', aug_p=0.3)\n",
        "augmented_data = aug.augment(text_data)\n",
        "\n",
        "print(\"Augmented Data (Synonym Replacement):\")\n",
        "for i in range(len(augmented_data)):\n",
        "    print(f\"{text_data[i]} => {augmented_data[i]}\")\n",
        "\n",
        "# Character-level augmentation\n",
        "aug = nac.KeyboardAug()\n",
        "augmented_data = aug.augment(text_data)\n",
        "\n",
        "print(\"\\nAugmented Data (Keyboard Typos):\")\n",
        "for i in range(len(augmented_data)):\n",
        "    print(f\"{text_data[i]} => {augmented_data[i]}\")"
      ]
    }
  ],
  "metadata": {
    "colab": {
      "provenance": [],
      "authorship_tag": "ABX9TyMzEHZVz/SnwfJXGaaXP5Yo",
      "include_colab_link": true
    },
    "gpuClass": "standard",
    "kernelspec": {
      "display_name": "Python 3",
      "name": "python3"
    },
    "language_info": {
      "name": "python"
    }
  },
  "nbformat": 4,
  "nbformat_minor": 0
}